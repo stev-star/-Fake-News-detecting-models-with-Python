{
 "cells": [
  {
   "cell_type": "code",
   "execution_count": 56,
   "id": "9284de54",
   "metadata": {},
   "outputs": [],
   "source": [
    "# importing important libralies\n",
    "import pandas as pd\n",
    "import numpy as np\n",
    "import matplotlib.pyplot as plt\n",
    "%matplotlib inline\n",
    "plt.style.use('fivethirtyeight')"
   ]
  },
  {
   "cell_type": "code",
   "execution_count": 57,
   "id": "3978aacb",
   "metadata": {},
   "outputs": [],
   "source": [
    "# read the csv file\n",
    "df_fake=pd.read_csv(\"C:\\\\Users\\\\stpgh\\\\Downloads\\\\Documents\\\\news\\\\news.csv\")"
   ]
  },
  {
   "cell_type": "code",
   "execution_count": 58,
   "id": "89ef2558",
   "metadata": {},
   "outputs": [
    {
     "data": {
      "text/html": [
       "<div>\n",
       "<style scoped>\n",
       "    .dataframe tbody tr th:only-of-type {\n",
       "        vertical-align: middle;\n",
       "    }\n",
       "\n",
       "    .dataframe tbody tr th {\n",
       "        vertical-align: top;\n",
       "    }\n",
       "\n",
       "    .dataframe thead th {\n",
       "        text-align: right;\n",
       "    }\n",
       "</style>\n",
       "<table border=\"1\" class=\"dataframe\">\n",
       "  <thead>\n",
       "    <tr style=\"text-align: right;\">\n",
       "      <th></th>\n",
       "      <th>Unnamed: 0</th>\n",
       "      <th>title</th>\n",
       "      <th>text</th>\n",
       "      <th>label</th>\n",
       "    </tr>\n",
       "  </thead>\n",
       "  <tbody>\n",
       "    <tr>\n",
       "      <th>0</th>\n",
       "      <td>8476</td>\n",
       "      <td>You Can Smell Hillary’s Fear</td>\n",
       "      <td>Daniel Greenfield, a Shillman Journalism Fello...</td>\n",
       "      <td>FAKE</td>\n",
       "    </tr>\n",
       "    <tr>\n",
       "      <th>1</th>\n",
       "      <td>10294</td>\n",
       "      <td>Watch The Exact Moment Paul Ryan Committed Pol...</td>\n",
       "      <td>Google Pinterest Digg Linkedin Reddit Stumbleu...</td>\n",
       "      <td>FAKE</td>\n",
       "    </tr>\n",
       "    <tr>\n",
       "      <th>2</th>\n",
       "      <td>3608</td>\n",
       "      <td>Kerry to go to Paris in gesture of sympathy</td>\n",
       "      <td>U.S. Secretary of State John F. Kerry said Mon...</td>\n",
       "      <td>REAL</td>\n",
       "    </tr>\n",
       "    <tr>\n",
       "      <th>3</th>\n",
       "      <td>10142</td>\n",
       "      <td>Bernie supporters on Twitter erupt in anger ag...</td>\n",
       "      <td>— Kaydee King (@KaydeeKing) November 9, 2016 T...</td>\n",
       "      <td>FAKE</td>\n",
       "    </tr>\n",
       "    <tr>\n",
       "      <th>4</th>\n",
       "      <td>875</td>\n",
       "      <td>The Battle of New York: Why This Primary Matters</td>\n",
       "      <td>It's primary day in New York and front-runners...</td>\n",
       "      <td>REAL</td>\n",
       "    </tr>\n",
       "  </tbody>\n",
       "</table>\n",
       "</div>"
      ],
      "text/plain": [
       "   Unnamed: 0                                              title  \\\n",
       "0        8476                       You Can Smell Hillary’s Fear   \n",
       "1       10294  Watch The Exact Moment Paul Ryan Committed Pol...   \n",
       "2        3608        Kerry to go to Paris in gesture of sympathy   \n",
       "3       10142  Bernie supporters on Twitter erupt in anger ag...   \n",
       "4         875   The Battle of New York: Why This Primary Matters   \n",
       "\n",
       "                                                text label  \n",
       "0  Daniel Greenfield, a Shillman Journalism Fello...  FAKE  \n",
       "1  Google Pinterest Digg Linkedin Reddit Stumbleu...  FAKE  \n",
       "2  U.S. Secretary of State John F. Kerry said Mon...  REAL  \n",
       "3  — Kaydee King (@KaydeeKing) November 9, 2016 T...  FAKE  \n",
       "4  It's primary day in New York and front-runners...  REAL  "
      ]
     },
     "execution_count": 58,
     "metadata": {},
     "output_type": "execute_result"
    }
   ],
   "source": [
    "# displaying the data\n",
    "df_fake.head()"
   ]
  },
  {
   "cell_type": "code",
   "execution_count": 59,
   "id": "55ec1b07",
   "metadata": {},
   "outputs": [
    {
     "data": {
      "text/plain": [
       "(6335, 4)"
      ]
     },
     "execution_count": 59,
     "metadata": {},
     "output_type": "execute_result"
    }
   ],
   "source": [
    "df_fake.shape"
   ]
  },
  {
   "cell_type": "code",
   "execution_count": 60,
   "id": "792aa19e",
   "metadata": {},
   "outputs": [
    {
     "name": "stdout",
     "output_type": "stream",
     "text": [
      "<class 'pandas.core.frame.DataFrame'>\n",
      "RangeIndex: 6335 entries, 0 to 6334\n",
      "Data columns (total 4 columns):\n",
      " #   Column      Non-Null Count  Dtype \n",
      "---  ------      --------------  ----- \n",
      " 0   Unnamed: 0  6335 non-null   int64 \n",
      " 1   title       6335 non-null   object\n",
      " 2   text        6335 non-null   object\n",
      " 3   label       6335 non-null   object\n",
      "dtypes: int64(1), object(3)\n",
      "memory usage: 198.1+ KB\n"
     ]
    }
   ],
   "source": [
    "df_fake.info()"
   ]
  },
  {
   "cell_type": "code",
   "execution_count": 61,
   "id": "4d7ba760",
   "metadata": {},
   "outputs": [],
   "source": [
    "df_fake.drop('Unnamed: 0',inplace=True,axis=1)"
   ]
  },
  {
   "cell_type": "code",
   "execution_count": 62,
   "id": "9140052c",
   "metadata": {},
   "outputs": [
    {
     "data": {
      "text/plain": [
       "(6306, 3)"
      ]
     },
     "execution_count": 62,
     "metadata": {},
     "output_type": "execute_result"
    }
   ],
   "source": [
    "# dropping duplicate values\n",
    "df_fake.drop_duplicates(inplace=True)\n",
    "df_fake.shape"
   ]
  },
  {
   "cell_type": "code",
   "execution_count": 63,
   "id": "2285c813",
   "metadata": {},
   "outputs": [
    {
     "name": "stdout",
     "output_type": "stream",
     "text": [
      "                             title: No. of unique items:    6256\n",
      "                              text: No. of unique items:    6060\n",
      "                             label: No. of unique items:       2\n"
     ]
    }
   ],
   "source": [
    "# unique value count\n",
    "col=df_fake.columns.to_list()\n",
    "\n",
    "for cols in col:\n",
    "    print(f\"{cols:>34}: No. of unique items:{df_fake[cols].nunique():>8}\")"
   ]
  },
  {
   "cell_type": "code",
   "execution_count": 64,
   "id": "1b7b0b52",
   "metadata": {},
   "outputs": [
    {
     "data": {
      "text/plain": [
       "Michael Moore Owes Me $4.99                                                                           3\n",
       "OnPolitics | 's politics blog                                                                         3\n",
       "Get Ready For Civil Unrest: Survey Finds That Most Americans Are Concerned About Election Violence    3\n",
       "The Deceptive Nature of Hillary Clinton is Right in Line with Communism                               2\n",
       "Democratic debate: 6 takeaways                                                                        2\n",
       "                                                                                                     ..\n",
       "Hillary To Be Indicted After Election: Trump Responds To FBI Investigation                            1\n",
       "#NeverTrump Goes Down in Flames in Final Attempt to Stop The Donald                                   1\n",
       "Surprised About Donald Trump's Popularity? You Shouldn't Be                                           1\n",
       "How To Plan Farmer’s Calendar All Year Round                                                          1\n",
       "Jeb Bush Is Suddenly Attacking Trump. Here's Why That Matters                                         1\n",
       "Name: title, Length: 6256, dtype: int64"
      ]
     },
     "execution_count": 64,
     "metadata": {},
     "output_type": "execute_result"
    }
   ],
   "source": [
    "# title value counts\n",
    "df_fake['title'].value_counts()"
   ]
  },
  {
   "cell_type": "code",
   "execution_count": 65,
   "id": "1e8a7f9d",
   "metadata": {},
   "outputs": [
    {
     "data": {
      "text/plain": [
       "REAL    3154\n",
       "FAKE    3152\n",
       "Name: label, dtype: int64"
      ]
     },
     "execution_count": 65,
     "metadata": {},
     "output_type": "execute_result"
    }
   ],
   "source": [
    "# news value counts\n",
    "labels=df_fake['label'].value_counts()\n",
    "labels"
   ]
  },
  {
   "cell_type": "code",
   "execution_count": 66,
   "id": "e8687da5",
   "metadata": {},
   "outputs": [
    {
     "data": {
      "image/png": "[encoded data removed]",
      "text/plain": [
       "<Figure size 720x360 with 1 Axes>"
      ]
     },
     "metadata": {},
     "output_type": "display_data"
    }
   ],
   "source": [
    "# ploting the fake and real news\n",
    "plt.figure(figsize=[10,5])\n",
    "df_fake.label.value_counts().plot(kind='bar')\n",
    "plt.title('Bar Displaying Fake and Real')\n",
    "plt.xlabel('label')\n",
    "plt.ylabel('label value counts')\n",
    "plt.show()"
   ]
  },
  {
   "cell_type": "code",
   "execution_count": 67,
   "id": "c4be629b",
   "metadata": {},
   "outputs": [],
   "source": [
    "# importing tools to model our data using sklearn\n",
    "import itertools\n",
    "from sklearn.model_selection import train_test_split\n",
    "from sklearn.feature_extraction.text import TfidfVectorizer\n",
    "from sklearn.linear_model import PassiveAggressiveClassifier\n",
    "from sklearn.metrics import accuracy_score, confusion_matrix"
   ]
  },
  {
   "cell_type": "code",
   "execution_count": 68,
   "id": "a182649f",
   "metadata": {},
   "outputs": [
    {
     "data": {
      "text/plain": [
       "0    FAKE\n",
       "1    FAKE\n",
       "2    REAL\n",
       "3    FAKE\n",
       "4    REAL\n",
       "Name: label, dtype: object"
      ]
     },
     "execution_count": 68,
     "metadata": {},
     "output_type": "execute_result"
    }
   ],
   "source": [
    "#Get the labels from label\n",
    "labels=df_fake['label']\n",
    "labels.head()"
   ]
  },
  {
   "cell_type": "code",
   "execution_count": 69,
   "id": "c70a1c6f",
   "metadata": {},
   "outputs": [
    {
     "data": {
      "text/plain": [
       "0       Daniel Greenfield, a Shillman Journalism Fello...\n",
       "1       Google Pinterest Digg Linkedin Reddit Stumbleu...\n",
       "2       U.S. Secretary of State John F. Kerry said Mon...\n",
       "3       — Kaydee King (@KaydeeKing) November 9, 2016 T...\n",
       "4       It's primary day in New York and front-runners...\n",
       "                              ...                        \n",
       "6330    The State Department told the Republican Natio...\n",
       "6331    The ‘P’ in PBS Should Stand for ‘Plutocratic’ ...\n",
       "6332     Anti-Trump Protesters Are Tools of the Oligar...\n",
       "6333    ADDIS ABABA, Ethiopia —President Obama convene...\n",
       "6334    Jeb Bush Is Suddenly Attacking Trump. Here's W...\n",
       "Name: text, Length: 6306, dtype: object"
      ]
     },
     "execution_count": 69,
     "metadata": {},
     "output_type": "execute_result"
    }
   ],
   "source": [
    "# get the texts from text\n",
    "texts=df_fake['text']\n",
    "texts"
   ]
  },
  {
   "cell_type": "code",
   "execution_count": 70,
   "id": "2f6ba1b4",
   "metadata": {},
   "outputs": [],
   "source": [
    "#Split the dataset into train and test data\n",
    "x_train,x_test,y_train,y_test=train_test_split(texts, labels, test_size=0.2, random_state=7)"
   ]
  },
  {
   "cell_type": "code",
   "execution_count": 71,
   "id": "f7f7d357",
   "metadata": {},
   "outputs": [],
   "source": [
    "#Initializing a TfidfVectorizer\n",
    "tfidf_vectorizer=TfidfVectorizer(stop_words='english', max_df=0.8)"
   ]
  },
  {
   "cell_type": "code",
   "execution_count": 72,
   "id": "b56f4bd3",
   "metadata": {},
   "outputs": [],
   "source": [
    "#Fit and transform train set, transform test set\n",
    "tfidf_train=tfidf_vectorizer.fit_transform(x_train) \n",
    "tfidf_test=tfidf_vectorizer.transform(x_test)"
   ]
  },
  {
   "cell_type": "code",
   "execution_count": 73,
   "id": "5235c7a8",
   "metadata": {},
   "outputs": [
    {
     "data": {
      "text/plain": [
       "PassiveAggressiveClassifier()"
      ]
     },
     "execution_count": 73,
     "metadata": {},
     "output_type": "execute_result"
    }
   ],
   "source": [
    "#Initializing a PassiveAggressiveClassifier\n",
    "pass_Ag=PassiveAggressiveClassifier()\n",
    "pass_Ag.fit(tfidf_train,y_train)"
   ]
  },
  {
   "cell_type": "code",
   "execution_count": 74,
   "id": "43531ec4",
   "metadata": {},
   "outputs": [
    {
     "name": "stdout",
     "output_type": "stream",
     "text": [
      "Accuracy: 93.9%\n"
     ]
    }
   ],
   "source": [
    "#Predict on the test set and calculate accuracy\n",
    "y_pred=pass_Ag.predict(tfidf_test)\n",
    "score=accuracy_score(y_test,y_pred)\n",
    "print(f'Accuracy: {round(score*100,2)}%')"
   ]
  },
  {
   "cell_type": "code",
   "execution_count": 75,
   "id": "5eef2555",
   "metadata": {},
   "outputs": [
    {
     "data": {
      "text/plain": [
       "array([[622,  40],\n",
       "       [ 37, 563]], dtype=int64)"
      ]
     },
     "execution_count": 75,
     "metadata": {},
     "output_type": "execute_result"
    }
   ],
   "source": [
    "#Build confusion matrix\n",
    "confusion_matrix(y_test,y_pred, labels=['FAKE','REAL'])"
   ]
  },
  {
   "cell_type": "code",
   "execution_count": null,
   "id": "17802d94",
   "metadata": {},
   "outputs": [],
   "source": []
  }
 ],
 "metadata": {
  "kernelspec": {
   "display_name": "Python 3 (ipykernel)",
   "language": "python",
   "name": "python3"
  },
  "language_info": {
   "codemirror_mode": {
    "name": "ipython",
    "version": 3
   },
   "file_extension": ".py",
   "mimetype": "text/x-python",
   "name": "python",
   "nbconvert_exporter": "python",
   "pygments_lexer": "ipython3",
   "version": "3.9.7"
  }
 },
 "nbformat": 4,
 "nbformat_minor": 5
}
